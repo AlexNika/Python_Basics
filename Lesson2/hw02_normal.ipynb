{
 "cells": [
  {
   "cell_type": "code",
   "execution_count": null,
   "metadata": {},
   "outputs": [],
   "source": [
    "from random import randint\n",
    "# ###\n",
    "# ### Генерируем список случайных чисел, случайной длины\n",
    "# ###\n",
    "while True:\n",
    "    random_list = [randint(-100, 100) for i in range(randint(0, 50))]\n",
    "    l = len(random_list)\n",
    "    if l != 0:\n",
    "        print(f'Список случайных целых чисел: {random_list}', '\\n')\n",
    "        break\n",
    "    else:\n",
    "        print('Генератор создал пустой список. Пробуем еще раз')\n",
    "new_list = []\n",
    "flag = False\n",
    "for each in random_list:\n",
    "    if each > 0 and (each ** 0.5 - int(each ** 0.5) == 0):\n",
    "        flag = True\n",
    "        new_list.append(int(each ** 0.5))\n",
    "if flag:\n",
    "    print(f'Новый список с соблюдением всех условий задачи: {new_list}')\n",
    "else:\n",
    "    print('В исходном списке нет чисел, удовлетворяющих условиям задачи')"
   ]
  },
  {
   "cell_type": "code",
   "execution_count": null,
   "metadata": {},
   "outputs": [],
   "source": [
    "my_date = input('Введите дату в формате DD.MM.YYYY: ')\n",
    "day = {'01': 'первое', '02': 'второе', '03': 'третье', '04': 'четвертое', '05': 'пятое',\n",
    "       '06': 'шестое', '07': 'седьмое', '08': 'восьмое', '09': 'девятое', '10': 'десятое',\n",
    "       '11': 'одинадцатое', '12': 'двинадцатое', '13': 'тринадцатое', '14': 'четырнадцатое',\n",
    "       '15': 'пятнадцатое', '16': 'шестнадцатое', '17': 'семнадцатое', '18': 'восемнадцатое',\n",
    "       '19': 'девятнадцатое', '20': 'двадцатое', '21': 'двадцать первое', '22': 'двадцать второе',\n",
    "       '23': 'двадцать третье', '24': 'двадцать четвертое', '25': 'двадцать пятое', '26': 'двадцать шестое',\n",
    "       '27': 'двадцать седьмое', '28': 'двадцать восьмое', '29': 'двадцать девятое', '30': 'тридцатое', \n",
    "       '31': 'тридцать первое'}\n",
    "month = {'01': 'января', '02': 'февраля', '03': 'марта', '04': 'апреля', '05': 'мая', '06': 'июня',\n",
    "         '07': 'июля', '08': 'августа', '09': 'сентября', '10': 'октября', '11': 'ноября', '12': 'декабря'}\n",
    "my_day = my_date[:2]\n",
    "my_month = my_date[3:5]\n",
    "my_year = my_date[-4:]\n",
    "print()\n",
    "print(f'{my_date} = {day[my_day]} {month[my_month]} {my_year} года')"
   ]
  },
  {
   "cell_type": "code",
   "execution_count": null,
   "metadata": {},
   "outputs": [],
   "source": [
    "from random import randint\n",
    "# ###\n",
    "# ### Генерируем список случайных чисел в диапазоне от -100 до 100, длины n\n",
    "# ###\n",
    "n = int(input('Введите длину списка n: '))\n",
    "while True:\n",
    "    random_list = [randint(-100, 100) for i in range(n)]\n",
    "    if len(random_list) != 0:\n",
    "        print(f'Список случайных целых чисел: {random_list}', '\\n')\n",
    "        break\n",
    "    else:\n",
    "        print('Генератор создал пустой список. Пробуем еще раз')"
   ]
  },
  {
   "cell_type": "code",
   "execution_count": 2,
   "metadata": {},
   "outputs": [
    {
     "name": "stdout",
     "output_type": "stream",
     "text": [
      "Список случайных целых чисел: [60, 6, 25, 67, 60, 79, 80, 25, 86, 6, 31, 63, 50, 23, 27, 38, 46, 20, 29, 73, 83, 20, 85, 17, 38, 27] \n",
      "\n",
      "Неповторяющиеся элементы исходного списка:\n",
      "[60, 6, 25, 67, 79, 80, 86, 31, 63, 50, 23, 27, 38, 46, 20, 29, 73, 83, 85, 17]\n",
      "Элементы исходного списка, которые не имеют повторений:\n",
      "[67, 79, 80, 86, 31, 63, 50, 23, 46, 29, 73, 83, 85, 17]\n"
     ]
    }
   ],
   "source": [
    "from random import randint\n",
    "# ###\n",
    "# ### Генерируем список случайных чисел\n",
    "# ###\n",
    "while True:\n",
    "    random_list = [randint(0, 100) for i in range(randint(0, 30))]\n",
    "    if len(random_list) != 0:\n",
    "        print(f'Исходный список случайных целых чисел: {random_list}', '\\n')\n",
    "        break\n",
    "    else:\n",
    "        print('Генератор создал пустой список. Пробуем еще раз')\n",
    "new_list1 = []\n",
    "new_list2 = []\n",
    "for each in random_list:\n",
    "    if each not in new_list1:\n",
    "        new_list1.append(each)\n",
    "    if random_list.count(each) == 1:\n",
    "        new_list2.append(each)\n",
    "print('Неповторяющиеся элементы исходного списка:')\n",
    "print(new_list1)\n",
    "print('Элементы исходного списка, которые не имеют повторений:')\n",
    "print(new_list2)"
   ]
  }
 ],
 "metadata": {
  "kernelspec": {
   "display_name": "Python 3",
   "language": "python",
   "name": "python3"
  },
  "language_info": {
   "codemirror_mode": {
    "name": "ipython",
    "version": 3
   },
   "file_extension": ".py",
   "mimetype": "text/x-python",
   "name": "python",
   "nbconvert_exporter": "python",
   "pygments_lexer": "ipython3",
   "version": "3.7.2"
  }
 },
 "nbformat": 4,
 "nbformat_minor": 2
}
