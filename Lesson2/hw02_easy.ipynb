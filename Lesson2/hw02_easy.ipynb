{
 "cells": [
  {
   "cell_type": "code",
   "execution_count": 16,
   "metadata": {},
   "outputs": [
    {
     "name": "stdout",
     "output_type": "stream",
     "text": [
      "1. яблоко\n",
      "2.  банан\n",
      "3.   киви\n",
      "4.  арбуз\n",
      "\n",
      "1. яблоко\n",
      "2.  банан\n",
      "3.   киви\n",
      "4.  арбуз\n"
     ]
    }
   ],
   "source": [
    "my_fruits = ['яблоко', 'банан', 'киви', 'арбуз']\n",
    "# ###\n",
    "# ### Вариант №1\n",
    "# ###\n",
    "for i, value in enumerate(my_fruits, 1):\n",
    "    print(f'{i}. {value:>6}')\n",
    "print()\n",
    "# ###\n",
    "# ### Вариант №2\n",
    "# ###\n",
    "for i in range(len(my_fruits)):\n",
    "    print('{}. {:>6}'.format(i + 1, my_fruits[i]))\n",
    "    "
   ]
  },
  {
   "cell_type": "code",
   "execution_count": 2,
   "metadata": {
    "scrolled": false
   },
   "outputs": [
    {
     "name": "stdout",
     "output_type": "stream",
     "text": [
      "Список №1 случайных целых чисел: [69, 56, 34, 14, 75, 45, 30, 81, 16, 26, 57, 56, 27, 52, 56, 33, 42, 38, 85, 49, 16, 26, 19, 81, 2, 66, 56, 49, 54, 47, 100, 28, 90, 82, 24, 46, 81, 8]\n",
      "Список №2 случайных целых чисел: [10, 90, 98, 47, 57, 49, 50, 5, 80, 97, 47, 41, 26, 95, 10, 16, 20, 56, 39, 97, 86, 87, 18, 38, 8, 25, 90, 98, 82, 27, 89, 95, 82, 39, 85, 15, 66] \n",
      "\n",
      "Длина исходного списка №1 = 38 \n",
      "\n",
      "Из списка №1 удалено число 90\n",
      "Из списка №1 удалено число 47\n",
      "Из списка №1 удалено число 57\n",
      "Из списка №1 удалено число 49\n",
      "Из списка №1 удалено число 49\n",
      "Из списка №1 удалено число 26\n",
      "Из списка №1 удалено число 26\n",
      "Из списка №1 удалено число 16\n",
      "Из списка №1 удалено число 16\n",
      "Из списка №1 удалено число 56\n",
      "Из списка №1 удалено число 56\n",
      "Из списка №1 удалено число 56\n",
      "Из списка №1 удалено число 56\n",
      "Из списка №1 удалено число 38\n",
      "Из списка №1 удалено число 8\n",
      "Из списка №1 удалено число 82\n",
      "Из списка №1 удалено число 27\n",
      "Из списка №1 удалено число 85\n",
      "Из списка №1 удалено число 66\n",
      "Список №1 с удаленнымы числами списка №2: [69, 34, 14, 75, 45, 30, 81, 52, 33, 42, 19, 81, 2, 54, 100, 28, 24, 46, 81] \n",
      "\n",
      "Теперь длина списка №1 = 19\n"
     ]
    }
   ],
   "source": [
    "from random import randint\n",
    "# ###\n",
    "# ### Генерируем список случайных чисел, случайной длины\n",
    "# ###\n",
    "while True:\n",
    "    random_list1 = [randint(0, 100) for i in range(randint(0, 100))]\n",
    "    random_list2 = [randint(0, 100) for i in range(randint(0, 100))]\n",
    "    l1 = len(random_list1)\n",
    "    l2 = len(random_list2)\n",
    "    if l1 != 0 or l2 != 0:\n",
    "        print(f'Список №1 случайных целых чисел: {random_list1}')\n",
    "        print(f'Список №2 случайных целых чисел: {random_list2}', '\\n')\n",
    "        break\n",
    "    else:\n",
    "        print('Генератор создал пустой список. Пробуем еще раз')\n",
    "print(f'Длина исходного списка №1 = {l1}', '\\n')\n",
    "# ###\n",
    "# ### Удаляем из списка №1 числа присутсвующие в списке №2\n",
    "# ###\n",
    "flag = False\n",
    "for each in random_list2:\n",
    "    c = random_list1.count(each)\n",
    "    if c >= 1:\n",
    "        flag = True\n",
    "        for i in range(0, c):\n",
    "            random_list1.remove(each)\n",
    "            print(f'Из списка №1 удалено число {each}')\n",
    "l1 = len(random_list1)\n",
    "if flag:\n",
    "    print(f'Список №1 с удаленнымы числами списка №2: {random_list1}', '\\n')\n",
    "    print(f'Теперь длина списка №1 = {l1}')\n",
    "else:\n",
    "    print('В списке №1 нет чисел из списка №2')"
   ]
  },
  {
   "cell_type": "code",
   "execution_count": 1,
   "metadata": {},
   "outputs": [
    {
     "name": "stdout",
     "output_type": "stream",
     "text": [
      "Генератор создал пустой список. Пробуем еще раз\n",
      "Список случайных целых чисел: [90, -57, 38, -83]\n",
      "Новый список: [22.5, -114, 9.5, -166]\n"
     ]
    }
   ],
   "source": [
    "from random import randint\n",
    "# ###\n",
    "# ### Генерируем список случайных чисел, случайной длины\n",
    "# ###\n",
    "while True:\n",
    "    random_list = [randint(-100, 100) for i in range(randint(0, 20))]\n",
    "    l = len(random_list)\n",
    "    if l != 0:\n",
    "        print(f'Список случайных целых чисел: {random_list}')\n",
    "        break\n",
    "    else:\n",
    "        print('Генератор создал пустой список. Пробуем еще раз')\n",
    "new_list = []\n",
    "for each in random_list:\n",
    "    if each % 2 == 0:\n",
    "        new_list.append(each / 4)\n",
    "    else:\n",
    "        new_list.append(each * 2)\n",
    "print(f'Новый список: {new_list}')"
   ]
  }
 ],
 "metadata": {
  "kernelspec": {
   "display_name": "Python 3",
   "language": "python",
   "name": "python3"
  },
  "language_info": {
   "codemirror_mode": {
    "name": "ipython",
    "version": 3
   },
   "file_extension": ".py",
   "mimetype": "text/x-python",
   "name": "python",
   "nbconvert_exporter": "python",
   "pygments_lexer": "ipython3",
   "version": "3.7.2"
  }
 },
 "nbformat": 4,
 "nbformat_minor": 2
}
