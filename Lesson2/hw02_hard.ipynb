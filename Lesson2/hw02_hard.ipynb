{
 "cells": [
  {
   "cell_type": "code",
   "execution_count": 4,
   "metadata": {},
   "outputs": [
    {
     "name": "stdout",
     "output_type": "stream",
     "text": [
      "При x=2.5 в уравнении y = -12x + 11111140.2121 координата у = 11111110.2121\n"
     ]
    }
   ],
   "source": [
    "equation = 'y = -12x + 11111140.2121'\n",
    "x = 2.5\n",
    "formula = equation.split()\n",
    "for element in formula:\n",
    "    if 'x' in element:\n",
    "        k = float(element[:len(element) - 1])\n",
    "    if '.' in element and 'x' not in element:\n",
    "        b = float(element)\n",
    "y = k * x + b\n",
    "print(f'При x={x} в уравнении {equation} координата у = {y}')"
   ]
  },
  {
   "cell_type": "code",
   "execution_count": 17,
   "metadata": {},
   "outputs": [
    {
     "name": "stdout",
     "output_type": "stream",
     "text": [
      "Введите дату в формате DD.MM.YYYY: 31.11.2019\n",
      "Вы ввели некорректную дату. В 11-м месяце должно быть 30 дней!\n"
     ]
    }
   ],
   "source": [
    "my_date = input('Введите дату в формате DD.MM.YYYY: ').split('.')\n",
    "my_day = int(my_date[0])\n",
    "my_month = int(my_date[1])\n",
    "my_year = int(my_date[2])\n",
    "days_per_month = {1:31, 2:30, 3:31, 4:30, 5:31, 6:30, 7:31, 8:31, 9:30, 10:31, 11:30, 12:31}\n",
    "if len(my_date[0]) != 2 or len(my_date[1]) != 2 or len(my_date[2]) != 4:\n",
    "    print(f'Неверно введена дата. Фоpмат даты {\".\".join(my_date)} не соответствует DD.MM.YYYY')\n",
    "elif my_day < 1 or my_day > 31:\n",
    "    print(f'Вы ввели некорректную дату. Неверное задан день - !!! {my_day} !!!')\n",
    "elif my_month < 1 or my_month > 12:\n",
    "    print(f'Вы ввели некорректную дату. Неверное задан месяц - !!! {my_month} !!!')\n",
    "elif my_year < 1 or my_year > 9999:\n",
    "    print(f'Вы ввели некорректную дату. Неверное задан год - !!! {my_year} !!!')\n",
    "elif my_day >= 30 and days_per_month[my_month] != my_day:\n",
    "    print(f'Вы ввели некорректную дату. В {my_month}-м месяце должно быть {days_per_month[my_month]} дней!')\n",
    "else:\n",
    "    print(f'Введенная дата {\".\".join(my_date)} корректна.')"
   ]
  },
  {
   "cell_type": "code",
   "execution_count": 16,
   "metadata": {},
   "outputs": [
    {
     "name": "stdout",
     "output_type": "stream",
     "text": [
      "Введите номер комнаты: 2000000000\n",
      "Этаж: 1650964, Позиция комнаты на этаже по счету слева: 845\n"
     ]
    }
   ],
   "source": [
    "room_number = int(input('Введите номер комнаты: '))\n",
    "rooms_block = 0\n",
    "last_room = 0\n",
    "last_floor = 0\n",
    "while room_number > last_room:\n",
    "    rooms_block += 1\n",
    "    last_room += rooms_block * rooms_block\n",
    "    last_floor += rooms_block\n",
    "i = 0\n",
    "while last_room > room_number:\n",
    "    last_room -= 1\n",
    "    if i < rooms_block - 1:\n",
    "        i += 1\n",
    "    else:\n",
    "        last_floor -= 1\n",
    "        i = 0\n",
    "position = rooms_block - i\n",
    "print(f'Этаж: {last_floor}, Позиция комнаты на этаже по счету слева: {position}')"
   ]
  }
 ],
 "metadata": {
  "kernelspec": {
   "display_name": "Python 3",
   "language": "python",
   "name": "python3"
  },
  "language_info": {
   "codemirror_mode": {
    "name": "ipython",
    "version": 3
   },
   "file_extension": ".py",
   "mimetype": "text/x-python",
   "name": "python",
   "nbconvert_exporter": "python",
   "pygments_lexer": "ipython3",
   "version": "3.7.2"
  }
 },
 "nbformat": 4,
 "nbformat_minor": 2
}
